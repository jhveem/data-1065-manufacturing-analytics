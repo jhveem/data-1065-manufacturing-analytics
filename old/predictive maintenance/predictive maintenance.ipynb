{
 "cells": [
  {
   "cell_type": "code",
   "execution_count": 1,
   "metadata": {},
   "outputs": [],
   "source": [
    "import pandas as pd"
   ]
  },
  {
   "cell_type": "code",
   "execution_count": 2,
   "metadata": {},
   "outputs": [
    {
     "data": {
      "text/plain": [
       "(3678, 7)"
      ]
     },
     "execution_count": 2,
     "metadata": {},
     "output_type": "execute_result"
    }
   ],
   "source": [
    "df = pd.read_csv(\"Motor_Amps_clean.csv\")\n",
    "df.shape"
   ]
  },
  {
   "cell_type": "code",
   "execution_count": 3,
   "metadata": {},
   "outputs": [
    {
     "data": {
      "text/plain": [
       "Header:                                      Data\n",
       "Date                                     6/9/2022\n",
       "Time                                 18:23:01;676\n",
       "Program:MainProgram\\Motor1Current          14.007\n",
       "Program:MainProgram\\Motor2Current               0\n",
       "Program:MainProgram\\Motor3Current              14\n",
       "Program:MainProgram\\Motor4Current              14\n",
       "dtype: object"
      ]
     },
     "execution_count": 3,
     "metadata": {},
     "output_type": "execute_result"
    }
   ],
   "source": [
    "df.min()"
   ]
  },
  {
   "cell_type": "code",
   "execution_count": 4,
   "metadata": {},
   "outputs": [
    {
     "data": {
      "text/plain": [
       "Header:                                      Data\n",
       "Date                                     6/9/2022\n",
       "Time                                 18:26:05;526\n",
       "Program:MainProgram\\Motor1Current          17.171\n",
       "Program:MainProgram\\Motor2Current           31.25\n",
       "Program:MainProgram\\Motor3Current          17.451\n",
       "Program:MainProgram\\Motor4Current          17.563\n",
       "dtype: object"
      ]
     },
     "execution_count": 4,
     "metadata": {},
     "output_type": "execute_result"
    }
   ],
   "source": [
    "df.max()"
   ]
  },
  {
   "cell_type": "code",
   "execution_count": 5,
   "metadata": {},
   "outputs": [
    {
     "data": {
      "text/plain": [
       "Program:MainProgram\\Motor1Current    15.592369\n",
       "Program:MainProgram\\Motor2Current    16.252423\n",
       "Program:MainProgram\\Motor3Current    15.723953\n",
       "Program:MainProgram\\Motor4Current    15.780775\n",
       "dtype: float64"
      ]
     },
     "execution_count": 5,
     "metadata": {},
     "output_type": "execute_result"
    }
   ],
   "source": [
    "df.mean()"
   ]
  },
  {
   "cell_type": "code",
   "execution_count": 6,
   "metadata": {},
   "outputs": [
    {
     "data": {
      "text/plain": [
       "Program:MainProgram\\Motor1Current    15.421000\n",
       "Program:MainProgram\\Motor2Current    17.360001\n",
       "Program:MainProgram\\Motor3Current    15.722000\n",
       "Program:MainProgram\\Motor4Current    15.778000\n",
       "dtype: float64"
      ]
     },
     "execution_count": 6,
     "metadata": {},
     "output_type": "execute_result"
    }
   ],
   "source": [
    "df.median()"
   ]
  },
  {
   "cell_type": "code",
   "execution_count": 7,
   "metadata": {},
   "outputs": [
    {
     "name": "stdout",
     "output_type": "stream",
     "text": [
      "975\n"
     ]
    }
   ],
   "source": [
    "for index, row in df.iterrows():\n",
    "    if row[4] >= 17.6:\n",
    "        print(index)\n",
    "        break"
   ]
  }
 ],
 "metadata": {
  "kernelspec": {
   "display_name": "Python 3",
   "language": "python",
   "name": "python3"
  },
  "language_info": {
   "codemirror_mode": {
    "name": "ipython",
    "version": 3
   },
   "file_extension": ".py",
   "mimetype": "text/x-python",
   "name": "python",
   "nbconvert_exporter": "python",
   "pygments_lexer": "ipython3",
   "version": "3.8.5"
  }
 },
 "nbformat": 4,
 "nbformat_minor": 4
}

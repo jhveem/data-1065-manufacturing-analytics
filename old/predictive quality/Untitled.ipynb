{
 "cells": [
  {
   "cell_type": "code",
   "execution_count": 1,
   "metadata": {},
   "outputs": [],
   "source": [
    "import pandas as pd\n",
    "import math\n",
    "import numpy as np"
   ]
  },
  {
   "cell_type": "code",
   "execution_count": 2,
   "metadata": {},
   "outputs": [],
   "source": [
    "def get_totals(file_name):\n",
    "    df = pd.read_csv(file_name)\n",
    "    df['Date'] = df['Date'].str.replace(\"/\", \"-\")\n",
    "    df['Time'] = df['Time'].str.replace(\";[0-9]+\", \"\", regex=True)\n",
    "    df['DateTime'] = df['Date'] + ' ' + df['Time']\n",
    "    df['DateTime'] = pd.to_datetime(df['DateTime'])\n",
    "    \n",
    "    total_seconds = (df['DateTime'].max() - df['DateTime'].min()).total_seconds()\n",
    "    \n",
    "    total_produced = df.shape[0]\n",
    "    \n",
    "    df['Error'] = df['Program:MainProgram\\WidgetScrap_BadCap'] + df['Program:MainProgram\\WidgetScrap_Underfill'] + df['Program:MainProgram\\WidgetScrap_BadBottle']\n",
    "    df['Error'] = (df['Error'] / 3).apply(np.ceil)\n",
    "    total_failures = df['Error'].sum()\n",
    "    \n",
    "    total_successful = total_produced - total_failures\n",
    "    \n",
    "    print(f\"P: {total_produced} S: {total_successful} F: {total_failures}\")\n",
    "    print(total_failures / total_seconds)\n",
    "    print(total_successful / total_seconds)\n",
    "\n",
    "    return total_seconds, total_produced, total_successful, total_failures"
   ]
  },
  {
   "cell_type": "code",
   "execution_count": 3,
   "metadata": {},
   "outputs": [
    {
     "name": "stdout",
     "output_type": "stream",
     "text": [
      "P: 2773 S: 2497.0 F: 276.0\n",
      "0.19913419913419914\n",
      "1.8015873015873016\n"
     ]
    },
    {
     "data": {
      "text/plain": [
       "(1386.0, 2773, 2497.0, 276.0)"
      ]
     },
     "execution_count": 3,
     "metadata": {},
     "output_type": "execute_result"
    }
   ],
   "source": [
    "get_totals(\"BottleFiller_clean.csv\")"
   ]
  },
  {
   "cell_type": "code",
   "execution_count": 4,
   "metadata": {},
   "outputs": [
    {
     "name": "stdout",
     "output_type": "stream",
     "text": [
      "P: 3213 S: 2736.0 F: 477.0\n",
      "0.37120622568093387\n",
      "2.129182879377432\n"
     ]
    },
    {
     "data": {
      "text/plain": [
       "(1285.0, 3213, 2736.0, 477.0)"
      ]
     },
     "execution_count": 4,
     "metadata": {},
     "output_type": "execute_result"
    }
   ],
   "source": [
    "get_totals(\"BottleFillerFast_clean.csv\")"
   ]
  },
  {
   "cell_type": "code",
   "execution_count": 5,
   "metadata": {},
   "outputs": [
    {
     "name": "stdout",
     "output_type": "stream",
     "text": [
      "P: 2704 S: 2573.0 F: 131.0\n",
      "0.08076448828606658\n",
      "1.5863131935881627\n"
     ]
    },
    {
     "data": {
      "text/plain": [
       "(1622.0, 2704, 2573.0, 131.0)"
      ]
     },
     "execution_count": 5,
     "metadata": {},
     "output_type": "execute_result"
    }
   ],
   "source": [
    "get_totals(\"BottleFillerSlow_clean.csv\")"
   ]
  }
 ],
 "metadata": {
  "kernelspec": {
   "display_name": "Python 3",
   "language": "python",
   "name": "python3"
  },
  "language_info": {
   "codemirror_mode": {
    "name": "ipython",
    "version": 3
   },
   "file_extension": ".py",
   "mimetype": "text/x-python",
   "name": "python",
   "nbconvert_exporter": "python",
   "pygments_lexer": "ipython3",
   "version": "3.8.5"
  }
 },
 "nbformat": 4,
 "nbformat_minor": 4
}

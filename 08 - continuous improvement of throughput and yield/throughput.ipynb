{
 "cells": [
  {
   "cell_type": "code",
   "execution_count": 1,
   "id": "738d4c0f",
   "metadata": {},
   "outputs": [],
   "source": [
    "import pandas as pd"
   ]
  },
  {
   "cell_type": "code",
   "execution_count": 7,
   "id": "5e9cbaad",
   "metadata": {},
   "outputs": [],
   "source": [
    "def get_duration(df):\n",
    "    df_date = df['Date']\n",
    "    df_time = df['Time']\n",
    "    df['Date'] = df_date.str.replace(\"/\", \"-\")\n",
    "    df['Time'] = df_time.str.replace(\";\", \".\")\n",
    "    df['DateTime'] = df['Date'] + ' ' + df['Time']\n",
    "    df['DateTime'] = pd.to_datetime(df['DateTime'])\n",
    "    total_seconds = (df['DateTime'].max() - df['DateTime'].min()).total_seconds()\n",
    "    return total_seconds"
   ]
  },
  {
   "cell_type": "code",
   "execution_count": 13,
   "id": "6f964fe0",
   "metadata": {},
   "outputs": [
    {
     "name": "stdout",
     "output_type": "stream",
     "text": [
      "653 652.0\n",
      "1.0015337423312884\n",
      "774 638.22\n",
      "1.2127479552505405\n",
      "2497 1386.0\n",
      "1.8015873015873016\n"
     ]
    }
   ],
   "source": [
    "df = pd.read_csv(\"CapMaker_cleaned.csv\")\n",
    "duration = get_duration(df)\n",
    "produced = df.shape[0]\n",
    "print(produced, duration)\n",
    "rate = produced / duration\n",
    "print(rate)\n",
    "\n",
    "df = pd.read_csv(\"BottleMaker_cleaned.csv\")\n",
    "duration = get_duration(df)\n",
    "produced = df[df['Program:MainProgram\\BottleWeightReject'] == 0].shape[0]\n",
    "print(produced, duration)\n",
    "rate = produced / duration\n",
    "print(rate)\n",
    "\n",
    "df = pd.read_csv(\"BottleFiller_cleaned.csv\")\n",
    "duration = get_duration(df)\n",
    "produced = ((df['Program:MainProgram\\WidgetScrap_BadCap'] + df['Program:MainProgram\\WidgetScrap_Underfill'] + df['Program:MainProgram\\WidgetScrap_BadBottle']) == 0).sum()\n",
    "print(produced, duration)\n",
    "rate = produced / duration\n",
    "print(rate)"
   ]
  },
  {
   "cell_type": "code",
   "execution_count": null,
   "id": "3d88bc54",
   "metadata": {},
   "outputs": [],
   "source": [
    "#Assuming only 8 machines could be purchased, how many of each machine would you recommend to buy. \n",
    "#What will be the daily production rate (assuming machines run for 8 hours each day) based on your proposal."
   ]
  },
  {
   "cell_type": "code",
   "execution_count": 14,
   "id": "1a3b39eb",
   "metadata": {},
   "outputs": [
    {
     "data": {
      "text/plain": [
       "2.16"
      ]
     },
     "execution_count": 14,
     "metadata": {},
     "output_type": "execute_result"
    }
   ],
   "source": [
    "3 3.6 3.6"
   ]
  }
 ],
 "metadata": {
  "kernelspec": {
   "display_name": "Python 3",
   "language": "python",
   "name": "python3"
  },
  "language_info": {
   "codemirror_mode": {
    "name": "ipython",
    "version": 3
   },
   "file_extension": ".py",
   "mimetype": "text/x-python",
   "name": "python",
   "nbconvert_exporter": "python",
   "pygments_lexer": "ipython3",
   "version": "3.8.8"
  }
 },
 "nbformat": 4,
 "nbformat_minor": 5
}

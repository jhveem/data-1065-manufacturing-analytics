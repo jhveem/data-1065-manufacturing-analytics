{
 "cells": [
  {
   "cell_type": "code",
   "execution_count": 2,
   "metadata": {},
   "outputs": [],
   "source": [
    "import pandas as pd"
   ]
  },
  {
   "cell_type": "code",
   "execution_count": 3,
   "metadata": {},
   "outputs": [],
   "source": [
    "def get_oz_per_second(file_name):\n",
    "    df = pd.read_csv(file_name)\n",
    "    df_date = df['Date']\n",
    "    df_time = df['Time']\n",
    "    df['Date'] = df_date.str.replace(\"/\", \"-\")\n",
    "    df['Time'] = df_time.str.replace(\";\", \".\")\n",
    "    df['DateTime'] = df['Date'] + ' ' + df['Time']\n",
    "    df['DateTime'] = pd.to_datetime(df['DateTime'])\n",
    "    total_seconds = (df['DateTime'].max() - df['DateTime'].min()).total_seconds()\n",
    "    total_produced = df['Program:MainProgram\\MaterialWeight'].sum()\n",
    "    return total_produced / total_seconds"
   ]
  },
  {
   "cell_type": "code",
   "execution_count": 4,
   "metadata": {},
   "outputs": [],
   "source": [
    "def calc_profits(rate, profit_per_oz):\n",
    "    dollars_per_second = rate * profit_per_oz\n",
    "    dollars_per_second -= 0.01\n",
    "    return dollars_per_second"
   ]
  },
  {
   "cell_type": "code",
   "execution_count": 5,
   "metadata": {},
   "outputs": [],
   "source": [
    "#get rate for each item\n",
    "##which produces the most per hour\n",
    "\n",
    "#the average rate works, but it is not a guarantee. Using the smallest ammount produced, estimate a \"worst case scenario\" production rate.\n",
    "\n",
    "#get the profits per hour\n",
    "##which is the most profitable\n",
    "\n",
    "#given x pounds required per day, how many hours does the machine need to run bagging each item. Machine has to run in 15 minute increments"
   ]
  },
  {
   "cell_type": "code",
   "execution_count": 28,
   "metadata": {},
   "outputs": [
    {
     "name": "stdout",
     "output_type": "stream",
     "text": [
      "13.218455401960957\n",
      "1.3449209636959887 Hours\n",
      "0.6377043146960869\n",
      "\n",
      "15.272003898486835\n",
      "2.182643060786282\n",
      "0.6008801559394734\n",
      "\n",
      "12.79002027355623\n",
      "1.7374657543090348\n",
      "0.6295010136778115\n",
      "\n"
     ]
    }
   ],
   "source": [
    "rate = get_oz_per_second(\"PackagingChips_cleaned.csv\")\n",
    "print(rate)\n",
    "pound_per_hour = (rate * 60 * 60) / 16\n",
    "print(4000 / pound_per_hour, \"Hours\")\n",
    "profits = calc_profits(rate, 0.049)\n",
    "print(profits)\n",
    "print()\n",
    "\n",
    "rate = get_oz_per_second(\"PackagingGoldfish_cleaned.csv\")\n",
    "print(rate)\n",
    "pound_per_hour = (rate * 60 * 60) / 16\n",
    "print(7500 / pound_per_hour)\n",
    "profits = calc_profits(rate, 0.04)\n",
    "print(profits)\n",
    "print()\n",
    "\n",
    "rate = get_oz_per_second(\"PackagingPretzels_cleaned.csv\")\n",
    "print(rate)\n",
    "pound_per_hour = (rate * 60 * 60) / 16\n",
    "print(5000 / pound_per_hour)\n",
    "profits = calc_profits(rate, 0.05)\n",
    "print(profits)\n",
    "print()"
   ]
  },
  {
   "cell_type": "code",
   "execution_count": null,
   "metadata": {},
   "outputs": [],
   "source": []
  }
 ],
 "metadata": {
  "kernelspec": {
   "display_name": "Python 3",
   "language": "python",
   "name": "python3"
  },
  "language_info": {
   "codemirror_mode": {
    "name": "ipython",
    "version": 3
   },
   "file_extension": ".py",
   "mimetype": "text/x-python",
   "name": "python",
   "nbconvert_exporter": "python",
   "pygments_lexer": "ipython3",
   "version": "3.8.5"
  }
 },
 "nbformat": 4,
 "nbformat_minor": 5
}

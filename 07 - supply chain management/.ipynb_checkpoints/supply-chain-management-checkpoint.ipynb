{
 "cells": [
  {
   "cell_type": "code",
   "execution_count": 1,
   "id": "d2de8a53",
   "metadata": {},
   "outputs": [],
   "source": [
    "import pandas as pd"
   ]
  },
  {
   "cell_type": "code",
   "execution_count": 35,
   "id": "fb01efcf",
   "metadata": {},
   "outputs": [],
   "source": [
    "def get_oz_per_second(file_name):\n",
    "    df = pd.read_csv(file_name)\n",
    "    df_date = df['Date']\n",
    "    df_time = df['Time']\n",
    "    df['Date'] = df_date.str.replace(\"/\", \"-\")\n",
    "    df['Time'] = df_time.str.replace(\";\", \".\")\n",
    "    df['DateTime'] = df['Date'] + ' ' + df['Time']\n",
    "    df['DateTime'] = pd.to_datetime(df['DateTime'])\n",
    "    total_seconds = (df['DateTime'].max() - df['DateTime'].min()).total_seconds()\n",
    "    total_produced = df['Program:MainProgram\\MaterialWeight'].sum()\n",
    "    return total_produced / total_seconds"
   ]
  },
  {
   "cell_type": "code",
   "execution_count": 39,
   "id": "9057efef",
   "metadata": {},
   "outputs": [],
   "source": [
    "def calc_profits(rate, profir_per_oz):\n",
    "    dollars_per_second = rate * profir_per_oz\n",
    "    dollars_per_second -= 0.01\n",
    "    return dollars_per_second"
   ]
  },
  {
   "cell_type": "code",
   "execution_count": null,
   "id": "b9e12518",
   "metadata": {},
   "outputs": [],
   "source": [
    "#get rate for each item\n",
    "##which produces the most per hour\n",
    "\n",
    "#the average rate works, but it is not a guarantee. Using the smallest ammount produced, estimate a \"worst case scenario\" production rate.\n",
    "\n",
    "#get the profits per hour\n",
    "##which is the most profitable\n",
    "\n",
    "#given x pounds required per day, how many hours does the machine need to run bagging each item. Machine has to run in 15 minute increments"
   ]
  },
  {
   "cell_type": "code",
   "execution_count": 45,
   "id": "95002635",
   "metadata": {},
   "outputs": [
    {
     "name": "stdout",
     "output_type": "stream",
     "text": [
      "1.3449209636959887 Hours\n",
      "2.182643060786282\n",
      "1.7374657543090348\n"
     ]
    },
    {
     "data": {
      "text/plain": [
       "0.6295010136778115"
      ]
     },
     "execution_count": 45,
     "metadata": {},
     "output_type": "execute_result"
    }
   ],
   "source": [
    "rate = get_oz_per_second(\"PackagingChips_cleaned.csv\")\n",
    "pound_per_hour = (rate * 60 * 60) / 16\n",
    "print(4000 / pound_per_hour, \"Hours\")\n",
    "calc_profits(rate, 0.045)\n",
    "\n",
    "rate = get_oz_per_second(\"PackagingGoldfish_cleaned.csv\")\n",
    "pound_per_hour = (rate * 60 * 60) / 16\n",
    "print(7500 / pound_per_hour)\n",
    "calc_profits(rate, 0.04)\n",
    "\n",
    "rate = get_oz_per_second(\"PackagingPretzels_cleaned.csv\")\n",
    "pound_per_hour = (rate * 60 * 60) / 16\n",
    "print(5000 / pound_per_hour)\n",
    "calc_profits(rate, 0.05)"
   ]
  }
 ],
 "metadata": {
  "kernelspec": {
   "display_name": "Python 3",
   "language": "python",
   "name": "python3"
  },
  "language_info": {
   "codemirror_mode": {
    "name": "ipython",
    "version": 3
   },
   "file_extension": ".py",
   "mimetype": "text/x-python",
   "name": "python",
   "nbconvert_exporter": "python",
   "pygments_lexer": "ipython3",
   "version": "3.8.8"
  }
 },
 "nbformat": 4,
 "nbformat_minor": 5
}

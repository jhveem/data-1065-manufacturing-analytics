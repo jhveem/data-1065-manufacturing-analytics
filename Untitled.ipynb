{
 "cells": [
  {
   "cell_type": "code",
   "execution_count": 1,
   "id": "04495eb3",
   "metadata": {},
   "outputs": [],
   "source": [
    "import numpy as np\n",
    "import matplotlib.pyplot as plt  # To visualize\n",
    "import pandas as pd  # To read data\n",
    "from sklearn.linear_model import LinearRegression\n",
    "import re\n",
    "from sklearn.model_selection import train_test_split"
   ]
  },
  {
   "cell_type": "code",
   "execution_count": 26,
   "id": "f5e522ae",
   "metadata": {},
   "outputs": [
    {
     "name": "stdout",
     "output_type": "stream",
     "text": [
      "(14018, 72)\n"
     ]
    }
   ],
   "source": [
    "df = pd.read_csv(\"./continuous_factory_process_edited.csv\")\n",
    "df['Fail'] = df['Output'] == 0\n",
    "print(df[df['Fail'] == 0].shape)"
   ]
  },
  {
   "cell_type": "code",
   "execution_count": 31,
   "id": "722b97e9",
   "metadata": {},
   "outputs": [
    {
     "name": "stdout",
     "output_type": "stream",
     "text": [
      "AmbientConditions.AmbientHumidity.U.Actual\n",
      "16.66285714285715\n"
     ]
    },
    {
     "data": {
      "image/png": "[encoded data removed]",
      "text/plain": [
       "<Figure size 432x288 with 1 Axes>"
      ]
     },
     "metadata": {
      "needs_background": "light"
     },
     "output_type": "display_data"
    },
    {
     "name": "stdout",
     "output_type": "stream",
     "text": [
      "AmbientConditions.AmbientTemperature.U.Actual\n",
      "23.994999999999994\n"
     ]
    },
    {
     "data": {
      "image/png": "[encoded data removed]",
      "text/plain": [
       "<Figure size 432x288 with 1 Axes>"
      ]
     },
     "metadata": {
      "needs_background": "light"
     },
     "output_type": "display_data"
    },
    {
     "name": "stdout",
     "output_type": "stream",
     "text": [
      "FirstStage.CombinerOperation.Temperature1.U.Actual\n",
      "103.43999999999997\n"
     ]
    },
    {
     "data": {
      "image/png": "[encoded data removed]",
      "text/plain": [
       "<Figure size 432x288 with 1 Axes>"
      ]
     },
     "metadata": {
      "needs_background": "light"
     },
     "output_type": "display_data"
    },
    {
     "name": "stdout",
     "output_type": "stream",
     "text": [
      "FirstStage.CombinerOperation.Temperature2.U.Actual\n",
      "69.57\n"
     ]
    },
    {
     "data": {
      "image/png": "[encoded data removed]",
      "text/plain": [
       "<Figure size 432x288 with 1 Axes>"
      ]
     },
     "metadata": {
      "needs_background": "light"
     },
     "output_type": "display_data"
    },
    {
     "name": "stdout",
     "output_type": "stream",
     "text": [
      "FirstStage.CombinerOperation.Temperature3.C.Actual\n",
      "80.06285714285711\n"
     ]
    },
    {
     "data": {
      "image/png": "[encoded data removed]",
      "text/plain": [
       "<Figure size 432x288 with 1 Axes>"
      ]
     },
     "metadata": {
      "needs_background": "light"
     },
     "output_type": "display_data"
    }
   ],
   "source": [
    "total_fails = df[df['Fail'] == 1].shape[0]\n",
    "for column in df.columns:\n",
    "    if \"AmbientConditions\" in column or \"CombinerOperation\" in column:\n",
    "        print(column)\n",
    "        X = df[column].values.reshape(-1, 1)  # values converts it into a numpy array\n",
    "        y = df['Fail'].values.reshape(-1, 1)  # -1 means that calculate the dimension of rows, but have 1 column\n",
    "        print(df[df['Fail'] == 1][column].mean())\n",
    "        plt.scatter(X, y)\n",
    "        plt.show()"
   ]
  },
  {
   "cell_type": "code",
   "execution_count": 3,
   "id": "47882374",
   "metadata": {},
   "outputs": [],
   "source": [
    "def get_feature_lists(df):\n",
    "    feature_list_average = []\n",
    "    feature_list_median = []\n",
    "    feature_list_raw = []\n",
    "    for column in df.columns:\n",
    "        search = re.search(\"AmbientConditions\\.\", column)\n",
    "        if search:\n",
    "            feature_list_average.append(column)\n",
    "            feature_list_median.append(column)\n",
    "            feature_list_raw.append(column)\n",
    "\n",
    "        search = re.search(\"FirstStage\\.\", column)\n",
    "        if search:\n",
    "            feature_list_average.append(column)\n",
    "            feature_list_median.append(column)\n",
    "            feature_list_raw.append(column)\n",
    "\n",
    "        search = re.search(\"Machine1\\.(.*)\", column)\n",
    "        if search:\n",
    "            feature_name = search[1]\n",
    "            feature_list_raw.append(\"Machine1.\" + feature_name)\n",
    "            feature_list_raw.append(\"Machine2.\" + feature_name)\n",
    "            feature_list_raw.append(\"Machine3.\" + feature_name)\n",
    "\n",
    "            average_column = \"MachineAverage.\" + feature_name\n",
    "            feature_list_average.append(average_column)\n",
    "            df_average = df[[\"Machine1.\" + feature_name, \"Machine2.\" + feature_name, \"Machine3.\" + feature_name]].mean(axis=1)\n",
    "            df[average_column] = df_average\n",
    "\n",
    "            median_column = \"MachineMedian.\" + feature_name\n",
    "            feature_list_median.append(column)\n",
    "            df_median = df[[\"Machine1.\" + feature_name, \"Machine2.\" + feature_name, \"Machine3.\" + feature_name]].median(axis=1)\n",
    "            df[median_column] = df_average\n",
    "\n",
    "    return df, feature_list_raw, feature_list_average, feature_list_median"
   ]
  },
  {
   "cell_type": "code",
   "execution_count": 5,
   "id": "4a8d8f03",
   "metadata": {},
   "outputs": [],
   "source": [
    "df = pd.read_csv(\"./continuous_factory_process.csv\")\n",
    "df['predict'] = df['Stage1.Output.Measurement0.U.Actual'] > 0\n",
    "df, feature_list_raw, feature_list_average, feature_list_median = get_feature_lists(df)"
   ]
  },
  {
   "cell_type": "code",
   "execution_count": 6,
   "id": "c3e728f2",
   "metadata": {},
   "outputs": [],
   "source": [
    "def test_feature_list(feature_list, label):\n",
    "    X = df[feature_list].values  # values converts it into a numpy array\n",
    "    y = df[label].values.reshape(-1, 1)  # -1 means that calculate the dimension of rows, but have 1 column\n",
    "    linear_regressor = LinearRegression()  # create object for the class\n",
    "    linear_regressor.fit(X, y)  # perform linear regression\n",
    "\n",
    "    X_train, X_test, y_train, y_test = train_test_split(X, y, test_size=0.33, random_state=42)\n",
    "    linear_regressor.fit(X_train, y_train)\n",
    "    score = linear_regressor.score(X_test, y_test)\n",
    "    print(score)"
   ]
  },
  {
   "cell_type": "code",
   "execution_count": 7,
   "id": "fa01f256",
   "metadata": {},
   "outputs": [
    {
     "name": "stdout",
     "output_type": "stream",
     "text": [
      "0.04278173098425053\n",
      "0.031537838481926594\n",
      "0.030824260599629283\n"
     ]
    }
   ],
   "source": [
    "test_feature_list(feature_list_raw, 'Stage1.Output.Measurement0.U.Actual')\n",
    "test_feature_list(feature_list_average, 'Stage1.Output.Measurement0.U.Actual')\n",
    "test_feature_list(feature_list_median, 'Stage1.Output.Measurement0.U.Actual')"
   ]
  },
  {
   "cell_type": "code",
   "execution_count": 9,
   "id": "9f4c9290",
   "metadata": {},
   "outputs": [],
   "source": [
    "from sklearn.ensemble import RandomForestClassifier"
   ]
  },
  {
   "cell_type": "code",
   "execution_count": 26,
   "id": "99b8589a",
   "metadata": {},
   "outputs": [],
   "source": [
    "def test_feature_list_rf(feature_list, label):\n",
    "    X = df[feature_list].values  # values converts it into a numpy array\n",
    "    y = df[label].values.reshape(-1, 1)  # -1 means that calculate the dimension of rows, but have 1 column\n",
    "    \n",
    "    \n",
    "    rfc = RandomForestClassifier(n_estimators = 100)  # create object for the class\n",
    "\n",
    "    X_train, X_test, y_train, y_test = train_test_split(X, y, test_size=0.33, random_state=42)\n",
    "    rfc.fit(X_train, y_train)\n",
    "    score = rfc.score(X_test, y_test)\n",
    "    importances = rfc.feature_importances_\n",
    "    print(score)\n",
    "    for i in range(0, len(importances)):\n",
    "        importance = importances[i]\n",
    "        print(feature_list[i], importance)"
   ]
  },
  {
   "cell_type": "code",
   "execution_count": 27,
   "id": "77d11898",
   "metadata": {},
   "outputs": [
    {
     "name": "stderr",
     "output_type": "stream",
     "text": [
      "<ipython-input-26-3213248e99f0>:9: DataConversionWarning: A column-vector y was passed when a 1d array was expected. Please change the shape of y to (n_samples,), for example using ravel().\n",
      "  rfc.fit(X_train, y_train)\n"
     ]
    },
    {
     "name": "stdout",
     "output_type": "stream",
     "text": [
      "0.998494623655914\n",
      "AmbientConditions.AmbientHumidity.U.Actual 0.026231326820105916\n",
      "AmbientConditions.AmbientTemperature.U.Actual 0.03995873773853086\n",
      "MachineAverage.RawMaterial.Property1 0.004900988905595767\n",
      "MachineAverage.RawMaterial.Property2 0.006164350752344758\n",
      "MachineAverage.RawMaterial.Property3 0.005073928449301024\n",
      "MachineAverage.RawMaterial.Property4 0.029186705195961712\n",
      "MachineAverage.RawMaterialFeederParameter.U.Actual 0.03556712085084438\n",
      "MachineAverage.Zone1Temperature.C.Actual 0.05558111777111823\n",
      "MachineAverage.Zone2Temperature.C.Actual 0.24289027373503885\n",
      "MachineAverage.MotorAmperage.U.Actual 0.05584992194434449\n",
      "MachineAverage.MotorRPM.C.Actual 0.04138171946972981\n",
      "MachineAverage.MaterialPressure.U.Actual 0.05061757971764097\n",
      "MachineAverage.MaterialTemperature.U.Actual 0.07340434799040418\n",
      "MachineAverage.ExitZoneTemperature.C.Actual 0.09418503135718582\n",
      "FirstStage.CombinerOperation.Temperature1.U.Actual 0.09366329126084841\n",
      "FirstStage.CombinerOperation.Temperature2.U.Actual 0.07938654585630385\n",
      "FirstStage.CombinerOperation.Temperature3.C.Actual 0.06595701218470103\n"
     ]
    }
   ],
   "source": [
    "test_feature_list_rf(feature_list_average, 'predict')"
   ]
  },
  {
   "cell_type": "code",
   "execution_count": 45,
   "id": "bb6f0527",
   "metadata": {},
   "outputs": [
    {
     "name": "stdout",
     "output_type": "stream",
     "text": [
      "AmbientConditions.AmbientHumidity.U.Actual\n"
     ]
    },
    {
     "data": {
      "image/png": "[encoded data removed]",
      "text/plain": [
       "<Figure size 432x288 with 1 Axes>"
      ]
     },
     "metadata": {
      "needs_background": "light"
     },
     "output_type": "display_data"
    },
    {
     "name": "stdout",
     "output_type": "stream",
     "text": [
      "16.54 17.24\n",
      "1.5367727771679474\n",
      "\n",
      "AmbientConditions.AmbientTemperature.U.Actual\n"
     ]
    },
    {
     "data": {
      "image/png": "[encoded data removed]",
      "text/plain": [
       "<Figure size 432x288 with 1 Axes>"
      ]
     },
     "metadata": {
      "needs_background": "light"
     },
     "output_type": "display_data"
    },
    {
     "name": "stdout",
     "output_type": "stream",
     "text": [
      "23.53 24.09\n",
      "0.8916061648197683\n",
      "\n",
      "FirstStage.CombinerOperation.Temperature1.U.Actual\n"
     ]
    },
    {
     "data": {
      "image/png": "[encoded data removed]",
      "text/plain": [
       "<Figure size 432x288 with 1 Axes>"
      ]
     },
     "metadata": {
      "needs_background": "light"
     },
     "output_type": "display_data"
    },
    {
     "name": "stdout",
     "output_type": "stream",
     "text": [
      "101.7 104.5\n",
      "1.6774502755811167\n",
      "\n",
      "FirstStage.CombinerOperation.Temperature2.U.Actual\n"
     ]
    },
    {
     "data": {
      "image/png": "[encoded data removed]",
      "text/plain": [
       "<Figure size 432x288 with 1 Axes>"
      ]
     },
     "metadata": {
      "needs_background": "light"
     },
     "output_type": "display_data"
    },
    {
     "name": "stdout",
     "output_type": "stream",
     "text": [
      "61.3 111.8\n",
      "0.5444504938943766\n",
      "\n",
      "FirstStage.CombinerOperation.Temperature3.C.Actual\n"
     ]
    },
    {
     "data": {
      "image/png": "[encoded data removed]",
      "text/plain": [
       "<Figure size 432x288 with 1 Axes>"
      ]
     },
     "metadata": {
      "needs_background": "light"
     },
     "output_type": "display_data"
    },
    {
     "name": "stdout",
     "output_type": "stream",
     "text": [
      "79.9 80.2\n",
      "0.5682740704659848\n",
      "\n"
     ]
    }
   ],
   "source": [
    "\n",
    "total_fails = df[df['predict'] == 0].shape[0]\n",
    "for i in range(0, len(feature_list_average)):\n",
    "    feature = feature_list_average[i]\n",
    "    if \"AmbientConditions\" in feature or \"FirstStage.CombinerOperation\" in feature:\n",
    "        print(feature)\n",
    "        X = df[feature].values.reshape(-1, 1)  # values converts it into a numpy array\n",
    "        y = df['predict'].values.reshape(-1, 1)  # -1 means that calculate the dimension of rows, but have 1 column\n",
    "        plt.scatter(X, y)\n",
    "        plt.show()\n",
    "        fail_min = df[df['predict'] == 0][feature].min()\n",
    "        fail_max = df[df['predict'] == 0][feature].max()\n",
    "        print(fail_min, fail_max)\n",
    "        total_in_range = (df[(df[feature] >= fail_min) & (df[feature] <= fail_max)][feature].shape[0])\n",
    "        print((total_fails / total_in_range) * 100)\n",
    "        print()"
   ]
  },
  {
   "cell_type": "code",
   "execution_count": 7,
   "id": "68090ad8",
   "metadata": {},
   "outputs": [
    {
     "ename": "NameError",
     "evalue": "name 'df_motors' is not defined",
     "output_type": "error",
     "traceback": [
      "\u001b[1;31m---------------------------------------------------------------------------\u001b[0m",
      "\u001b[1;31mNameError\u001b[0m                                 Traceback (most recent call last)",
      "\u001b[1;32m<ipython-input-7-3641c13b83d2>\u001b[0m in \u001b[0;36m<module>\u001b[1;34m\u001b[0m\n\u001b[1;32m----> 1\u001b[1;33m \u001b[1;32mfor\u001b[0m \u001b[0mindex\u001b[0m\u001b[1;33m,\u001b[0m \u001b[0mrow\u001b[0m \u001b[1;32min\u001b[0m \u001b[0mdf_motors\u001b[0m\u001b[1;33m.\u001b[0m\u001b[0miterrows\u001b[0m\u001b[1;33m(\u001b[0m\u001b[1;33m)\u001b[0m\u001b[1;33m:\u001b[0m\u001b[1;33m\u001b[0m\u001b[1;33m\u001b[0m\u001b[0m\n\u001b[0m\u001b[0;32m      2\u001b[0m     \u001b[1;32mfor\u001b[0m \u001b[0mi\u001b[0m \u001b[1;32min\u001b[0m \u001b[0mrange\u001b[0m\u001b[1;33m(\u001b[0m\u001b[1;36m0\u001b[0m\u001b[1;33m,\u001b[0m \u001b[1;36m4\u001b[0m\u001b[1;33m)\u001b[0m\u001b[1;33m:\u001b[0m\u001b[1;33m\u001b[0m\u001b[1;33m\u001b[0m\u001b[0m\n\u001b[0;32m      3\u001b[0m         \u001b[0mmotor_number\u001b[0m \u001b[1;33m=\u001b[0m \u001b[0mi\u001b[0m \u001b[1;33m+\u001b[0m \u001b[1;36m1\u001b[0m\u001b[1;33m\u001b[0m\u001b[1;33m\u001b[0m\u001b[0m\n\u001b[0;32m      4\u001b[0m         \u001b[0mcurrent_value\u001b[0m \u001b[1;33m=\u001b[0m \u001b[0mrow\u001b[0m\u001b[1;33m[\u001b[0m\u001b[0mi\u001b[0m\u001b[1;33m]\u001b[0m\u001b[1;33m\u001b[0m\u001b[1;33m\u001b[0m\u001b[0m\n\u001b[0;32m      5\u001b[0m         \u001b[0mmotor_column\u001b[0m \u001b[1;33m=\u001b[0m \u001b[0mdf_motors\u001b[0m\u001b[1;33m.\u001b[0m\u001b[0miloc\u001b[0m\u001b[1;33m[\u001b[0m\u001b[0mi\u001b[0m\u001b[1;33m,\u001b[0m \u001b[1;36m0\u001b[0m\u001b[1;33m:\u001b[0m \u001b[0mindex\u001b[0m \u001b[1;33m+\u001b[0m \u001b[1;36m1\u001b[0m\u001b[1;33m]\u001b[0m\u001b[1;33m\u001b[0m\u001b[1;33m\u001b[0m\u001b[0m\n",
      "\u001b[1;31mNameError\u001b[0m: name 'df_motors' is not defined"
     ]
    }
   ],
   "source": [
    "for index, row in df_motors.iterrows():\n",
    "    for i in range(0, 4):\n",
    "        motor_number = i + 1\n",
    "        current_value = row[i]\n",
    "        motor_column = df_motors.iloc[i, 0: index + 1]\n",
    "        motor_mean = motor_column.mean()\n",
    "        if current_value > motor_mean * 1.25:\n",
    "            print('\\t', motor_number, motor_mean, current_value)"
   ]
  }
 ],
 "metadata": {
  "kernelspec": {
   "display_name": "Python 3",
   "language": "python",
   "name": "python3"
  },
  "language_info": {
   "codemirror_mode": {
    "name": "ipython",
    "version": 3
   },
   "file_extension": ".py",
   "mimetype": "text/x-python",
   "name": "python",
   "nbconvert_exporter": "python",
   "pygments_lexer": "ipython3",
   "version": "3.8.8"
  }
 },
 "nbformat": 4,
 "nbformat_minor": 5
}

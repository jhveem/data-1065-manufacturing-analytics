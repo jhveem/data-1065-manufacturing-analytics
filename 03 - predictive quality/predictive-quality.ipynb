{
 "cells": [
  {
   "cell_type": "code",
   "execution_count": 1,
   "metadata": {},
   "outputs": [],
   "source": [
    "import pandas as pd\n",
    "import math\n",
    "import numpy as np"
   ]
  },
  {
   "cell_type": "code",
   "execution_count": 2,
   "metadata": {},
   "outputs": [
    {
     "name": "stdout",
     "output_type": "stream",
     "text": [
      "6/10/2022\n",
      "6-10-2022 12:20:42\n",
      "2022-06-10 12:20:02\n",
      "1285.0\n",
      "2.5003891050583658\n"
     ]
    },
    {
     "data": {
      "text/plain": [
       "477"
      ]
     },
     "execution_count": 2,
     "metadata": {},
     "output_type": "execute_result"
    }
   ],
   "source": [
    "file_name = \"BottleFillerFast_clean.csv\"\n",
    "df = pd.read_csv(file_name)\n",
    "print(df['Date'][50])\n",
    "\n",
    "df_date = df['Date']\n",
    "df_time = df['Time']\n",
    "df['Date'] = df_date.str.replace(\"/\", \"-\")\n",
    "df['Time'] = df_time.str.replace(\";\", \".\")\n",
    "df['DateTime'] = df['Date'] + ' ' + df['Time']\n",
    "print(df['DateTime'][100])\n",
    "df['DateTime'] = pd.to_datetime(df['DateTime'])\n",
    "print(df['DateTime'].min())\n",
    "dif = df['DateTime'].max() - df['DateTime'].min()\n",
    "print(dif.total_seconds())\n",
    "total_produced = df.shape[0]\n",
    "print(total_produced / dif.total_seconds())\n",
    "\n",
    "df['Scrapped'] = df['Program:MainProgram\\WidgetScrap_BadCap'] + df['Program:MainProgram\\WidgetScrap_Underfill'] + df['Program:MainProgram\\WidgetScrap_BadBottle']    \n",
    "(df['Scrapped'] > 0).sum()"
   ]
  },
  {
   "cell_type": "code",
   "execution_count": null,
   "metadata": {},
   "outputs": [],
   "source": []
  },
  {
   "cell_type": "code",
   "execution_count": 23,
   "metadata": {},
   "outputs": [],
   "source": [
    "def get_totals(file_name):\n",
    "    df = pd.read_csv(file_name)\n",
    "    df_date = df['Date']\n",
    "    df_time = df['Time']\n",
    "    df['Date'] = df_date.str.replace(\"/\", \"-\")\n",
    "    df['Time'] = df_time.str.replace(\";[0-9]+\", \"\", regex=True)\n",
    "    df['DateTime'] = df['Date'] + ' ' + df['Time']\n",
    "    df['DateTime'] = pd.to_datetime(df['DateTime'])\n",
    "    \n",
    "    \n",
    "    total_seconds = (df['DateTime'].max() - df['DateTime'].min()).total_seconds()\n",
    "    \n",
    "    total_produced = df.shape[0]\n",
    "    \n",
    "    df['Scrapped'] = df['Program:MainProgram\\WidgetScrap_BadCap'] + df['Program:MainProgram\\WidgetScrap_Underfill'] + df['Program:MainProgram\\WidgetScrap_BadBottle']\n",
    "    df['Scrapped'] = (df['Scrapped'] / 3).apply(np.ceil)\n",
    "    total_failures = df['Scrapped'].sum()\n",
    "    \n",
    "    total_successful = total_produced - total_failures\n",
    "    \n",
    "    print(f\"P: {total_produced} S: {total_successful} F: {total_failures} T: {total_seconds}\")\n",
    "    print(total_produced / total_seconds)\n",
    "    print(total_failures / total_seconds)\n",
    "    print(total_failures / total_produced)\n",
    "    print(total_successful / total_seconds)"
   ]
  },
  {
   "cell_type": "code",
   "execution_count": 24,
   "metadata": {},
   "outputs": [
    {
     "name": "stdout",
     "output_type": "stream",
     "text": [
      "P: 2773 S: 2497.0 F: 276.0 T: 1386.0\n",
      "2.0007215007215007\n",
      "0.19913419913419914\n",
      "0.0995311936530833\n",
      "1.8015873015873016\n"
     ]
    }
   ],
   "source": [
    "get_totals(\"BottleFiller_clean.csv\")"
   ]
  },
  {
   "cell_type": "code",
   "execution_count": 25,
   "metadata": {},
   "outputs": [
    {
     "name": "stdout",
     "output_type": "stream",
     "text": [
      "P: 3213 S: 2736.0 F: 477.0 T: 1285.0\n",
      "2.5003891050583658\n",
      "0.37120622568093387\n",
      "0.1484593837535014\n",
      "2.129182879377432\n"
     ]
    }
   ],
   "source": [
    "get_totals(\"BottleFillerFast_clean.csv\")"
   ]
  },
  {
   "cell_type": "code",
   "execution_count": 26,
   "metadata": {},
   "outputs": [
    {
     "name": "stdout",
     "output_type": "stream",
     "text": [
      "P: 2704 S: 2573.0 F: 131.0 T: 1622.0\n",
      "1.6670776818742294\n",
      "0.08076448828606658\n",
      "0.048446745562130175\n",
      "1.5863131935881627\n"
     ]
    }
   ],
   "source": [
    "get_totals(\"BottleFillerSlow_clean.csv\")"
   ]
  },
  {
   "cell_type": "code",
   "execution_count": null,
   "metadata": {},
   "outputs": [],
   "source": []
  },
  {
   "cell_type": "code",
   "execution_count": null,
   "metadata": {},
   "outputs": [],
   "source": []
  }
 ],
 "metadata": {
  "kernelspec": {
   "display_name": "Python 3",
   "language": "python",
   "name": "python3"
  },
  "language_info": {
   "codemirror_mode": {
    "name": "ipython",
    "version": 3
   },
   "file_extension": ".py",
   "mimetype": "text/x-python",
   "name": "python",
   "nbconvert_exporter": "python",
   "pygments_lexer": "ipython3",
   "version": "3.8.8"
  }
 },
 "nbformat": 4,
 "nbformat_minor": 4
}
